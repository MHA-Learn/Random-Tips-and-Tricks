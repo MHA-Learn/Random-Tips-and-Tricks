{
  "nbformat": 4,
  "nbformat_minor": 0,
  "metadata": {
    "colab": {
      "provenance": []
    },
    "kernelspec": {
      "name": "python3",
      "display_name": "Python 3"
    },
    "language_info": {
      "name": "python"
    }
  },
  "cells": [
    {
      "cell_type": "markdown",
      "source": [
        "[![Open In Colab](https://colab.research.google.com/assets/colab-badge.svg)](https://colab.research.google.com/drive/1Ew2WIDI0zQNe-3oJEQOadjMOGZZ3Umsv?usp=sharing)"
      ],
      "metadata": {
        "id": "RjbD6648XE8x"
      }
    },
    {
      "cell_type": "markdown",
      "source": [
        "##Install and import the library"
      ],
      "metadata": {
        "id": "3ehxM9TEUJs8"
      }
    },
    {
      "cell_type": "code",
      "execution_count": 1,
      "metadata": {
        "colab": {
          "base_uri": "https://localhost:8080/"
        },
        "id": "jRvuvWz3UHio",
        "outputId": "adc78d8e-b287-4464-9ae6-8b26f745a47a"
      },
      "outputs": [
        {
          "output_type": "stream",
          "name": "stdout",
          "text": [
            "Looking in indexes: https://pypi.org/simple, https://us-python.pkg.dev/colab-wheels/public/simple/\n",
            "Collecting split-folders\n",
            "  Downloading split_folders-0.5.1-py3-none-any.whl (8.4 kB)\n",
            "Installing collected packages: split-folders\n",
            "Successfully installed split-folders-0.5.1\n"
          ]
        }
      ],
      "source": [
        "pip install split-folders"
      ]
    },
    {
      "cell_type": "code",
      "source": [
        "import splitfolders"
      ],
      "metadata": {
        "id": "_YhmpYFmUcTI"
      },
      "execution_count": 2,
      "outputs": []
    },
    {
      "cell_type": "markdown",
      "source": [
        "##Mount the drive (if needed)"
      ],
      "metadata": {
        "id": "e51SJlILRHTD"
      }
    },
    {
      "cell_type": "code",
      "source": [
        "# Run this cell if u can't mount ur drive automatically\n",
        "\n",
        "from google.colab import drive\n",
        "drive.mount('/content/drive')"
      ],
      "metadata": {
        "id": "LtqoTWQ9GDIa",
        "colab": {
          "base_uri": "https://localhost:8080/"
        },
        "outputId": "ee34e7c2-0ba1-4bdd-af43-1a8cba486b43"
      },
      "execution_count": 3,
      "outputs": [
        {
          "output_type": "stream",
          "name": "stdout",
          "text": [
            "Mounted at /content/drive\n"
          ]
        }
      ]
    },
    {
      "cell_type": "markdown",
      "source": [
        "##Set ur directory"
      ],
      "metadata": {
        "id": "l8_wPVo_RAIz"
      }
    },
    {
      "cell_type": "code",
      "source": [
        "#set the directory\n",
        "input_file = '/content/drive/MyDrive/image dataset'\n",
        "output_file = '/content/drive/MyDrive/image dataset splitted'"
      ],
      "metadata": {
        "id": "xdOjkeAEH1cW"
      },
      "execution_count": 4,
      "outputs": []
    },
    {
      "cell_type": "markdown",
      "source": [
        "##Split the data!"
      ],
      "metadata": {
        "id": "eMq0qL4AUtH9"
      }
    },
    {
      "cell_type": "code",
      "source": [
        "splitfolders.ratio(input_file, output=output_file, seed=38, ratio=(.75, .25), group_prefix=None)"
      ],
      "metadata": {
        "colab": {
          "base_uri": "https://localhost:8080/"
        },
        "id": "rNrnz_JvUsiY",
        "outputId": "b938062e-5297-46af-a589-65ee8e54e1ea"
      },
      "execution_count": 5,
      "outputs": [
        {
          "output_type": "stream",
          "name": "stderr",
          "text": [
            "Copying files: 150 files [00:26,  5.60 files/s]\n"
          ]
        }
      ]
    }
  ]
}